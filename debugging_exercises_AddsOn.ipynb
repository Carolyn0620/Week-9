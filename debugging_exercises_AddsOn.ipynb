{
 "cells": [
  {
   "cell_type": "markdown",
   "id": "73afa10f",
   "metadata": {},
   "source": [
    "# Debugging Exercises\n",
    "---\n",
    "## Solve these debugging problems!"
   ]
  },
  {
   "cell_type": "markdown",
   "id": "a7da7e1d",
   "metadata": {},
   "source": [
    "## Instructions\n",
    "Each of the following exercises contains a bug. Your task is to:\n",
    "1. Identify the bug.\n",
    "2. Use debugging techniques (print, `pdb`, logging) to find the issue.\n",
    "3. Fix the issue and ensure the function runs correctly.\n",
    "Let's get started!\n"
   ]
  },
  {
   "cell_type": "markdown",
   "id": "fce7bf94",
   "metadata": {},
   "source": [
    "### Exercise 1: Off-by-One Error"
   ]
  },
  {
   "cell_type": "code",
   "execution_count": null,
   "id": "e02fb0d9",
   "metadata": {},
   "outputs": [
    {
     "name": "stdout",
     "output_type": "stream",
     "text": [
      "10\n"
     ]
    }
   ],
   "source": [
    "# This function should return the sum of numbers from 1 to n\n",
    "def sum_numbers(n):\n",
    "    total = 0\n",
    "    for i in range(1, n):  # Bug: This excludes n\n",
    "        total += i          # total = total + i\n",
    "    return total\n",
    "\n",
    "print(sum_numbers(5))  # Expected output: 15, but it returns 10"
   ]
  },
  {
   "cell_type": "code",
   "execution_count": 3,
   "id": "fe51fe8b",
   "metadata": {},
   "outputs": [
    {
     "name": "stdout",
     "output_type": "stream",
     "text": [
      "15\n"
     ]
    }
   ],
   "source": [
    "# This function should return the sum of numbers from 1 to n\n",
    "def sum_numbers(n):\n",
    "    total = 0\n",
    "    for i in range(1, n + 1):  # should be n+1 \n",
    "        total += i\n",
    "    return total\n",
    "\n",
    "print(sum_numbers(5))  # Expected output: 15, but it returns 10"
   ]
  },
  {
   "cell_type": "code",
   "execution_count": null,
   "id": "dfbaec84",
   "metadata": {},
   "outputs": [],
   "source": [
    "# total starts at 0.\n",
    "\n",
    "# In the first iteration, i is 1, so total = total + i becomes total = 0 + 1 = 1.\n",
    "\n",
    "# In the second iteration, i is 2, so total = total + i becomes total = 1 + 2 = 3.\n",
    "\n",
    "# In the third iteration, i is 3, so total = total + i becomes total = 3 + 3 = 6.\n",
    "\n",
    "# In the fourth iteration, i is 4, so total = total + i becomes total = 6 + 4 = 10.\n",
    "\n",
    "# In the fifth iteration, i is 5, so total = total + i becomes total = 10 + 5 = 15."
   ]
  },
  {
   "cell_type": "markdown",
   "id": "3fb8c05d",
   "metadata": {},
   "source": [
    "### Exercise 2: List Index Error"
   ]
  },
  {
   "cell_type": "code",
   "execution_count": 4,
   "id": "9f3ff5ce",
   "metadata": {},
   "outputs": [
    {
     "ename": "IndexError",
     "evalue": "list index out of range",
     "output_type": "error",
     "traceback": [
      "\u001b[1;31m---------------------------------------------------------------------------\u001b[0m",
      "\u001b[1;31mIndexError\u001b[0m                                Traceback (most recent call last)",
      "Cell \u001b[1;32mIn[4], line 5\u001b[0m\n\u001b[0;32m      2\u001b[0m \u001b[38;5;28;01mdef\u001b[39;00m \u001b[38;5;21mget_last_item\u001b[39m(lst):\n\u001b[0;32m      3\u001b[0m     \u001b[38;5;28;01mreturn\u001b[39;00m lst[\u001b[38;5;28mlen\u001b[39m(lst)]  \u001b[38;5;66;03m# Bug: Index should be len(lst) - 1\u001b[39;00m\n\u001b[1;32m----> 5\u001b[0m \u001b[38;5;28mprint\u001b[39m(get_last_item([\u001b[38;5;241m1\u001b[39m, \u001b[38;5;241m2\u001b[39m, \u001b[38;5;241m3\u001b[39m]))\n",
      "Cell \u001b[1;32mIn[4], line 3\u001b[0m, in \u001b[0;36mget_last_item\u001b[1;34m(lst)\u001b[0m\n\u001b[0;32m      2\u001b[0m \u001b[38;5;28;01mdef\u001b[39;00m \u001b[38;5;21mget_last_item\u001b[39m(lst):\n\u001b[1;32m----> 3\u001b[0m     \u001b[38;5;28;01mreturn\u001b[39;00m lst[\u001b[38;5;28mlen\u001b[39m(lst)]\n",
      "\u001b[1;31mIndexError\u001b[0m: list index out of range"
     ]
    }
   ],
   "source": [
    "# This function should return the last item in a list\n",
    "def get_last_item(lst): # lst = last  #len = length of an object \n",
    "    return lst[len(lst)]  # Bug: Index should be len(lst) - 1\n",
    "\n",
    "print(get_last_item([1, 2, 3]))  # Expected output: 3, but causes an error"
   ]
  },
  {
   "cell_type": "code",
   "execution_count": 5,
   "id": "b50c38ab",
   "metadata": {},
   "outputs": [
    {
     "name": "stdout",
     "output_type": "stream",
     "text": [
      "3\n"
     ]
    }
   ],
   "source": [
    "# This function should return the last item in a list\n",
    "def get_last_item(lst):\n",
    "    return lst[len(lst) -1 ]  # Bug: Index should be len(lst) - 1\n",
    "\n",
    "print(get_last_item([1, 2, 3]))  # Expected output: 3, but causes an error"
   ]
  },
  {
   "cell_type": "markdown",
   "id": "2dd95c90",
   "metadata": {},
   "source": [
    "### Exercise 3: String Concatenation Error"
   ]
  },
  {
   "cell_type": "code",
   "execution_count": 6,
   "id": "f727d0c0",
   "metadata": {},
   "outputs": [
    {
     "ename": "TypeError",
     "evalue": "can only concatenate str (not \"int\") to str",
     "output_type": "error",
     "traceback": [
      "\u001b[1;31m---------------------------------------------------------------------------\u001b[0m",
      "\u001b[1;31mTypeError\u001b[0m                                 Traceback (most recent call last)",
      "Cell \u001b[1;32mIn[6], line 5\u001b[0m\n\u001b[0;32m      2\u001b[0m \u001b[38;5;28;01mdef\u001b[39;00m \u001b[38;5;21mgreet_user\u001b[39m(name, age):\n\u001b[0;32m      3\u001b[0m     \u001b[38;5;28;01mreturn\u001b[39;00m \u001b[38;5;124m'\u001b[39m\u001b[38;5;124mHello \u001b[39m\u001b[38;5;124m'\u001b[39m \u001b[38;5;241m+\u001b[39m name \u001b[38;5;241m+\u001b[39m \u001b[38;5;124m'\u001b[39m\u001b[38;5;124m, you are \u001b[39m\u001b[38;5;124m'\u001b[39m \u001b[38;5;241m+\u001b[39m age \u001b[38;5;241m+\u001b[39m \u001b[38;5;124m'\u001b[39m\u001b[38;5;124m years old.\u001b[39m\u001b[38;5;124m'\u001b[39m  \u001b[38;5;66;03m# Bug: age is an integer\u001b[39;00m\n\u001b[1;32m----> 5\u001b[0m \u001b[38;5;28mprint\u001b[39m(greet_user(\u001b[38;5;124m'\u001b[39m\u001b[38;5;124mAlice\u001b[39m\u001b[38;5;124m'\u001b[39m, \u001b[38;5;241m25\u001b[39m))\n",
      "Cell \u001b[1;32mIn[6], line 3\u001b[0m, in \u001b[0;36mgreet_user\u001b[1;34m(name, age)\u001b[0m\n\u001b[0;32m      2\u001b[0m \u001b[38;5;28;01mdef\u001b[39;00m \u001b[38;5;21mgreet_user\u001b[39m(name, age):\n\u001b[1;32m----> 3\u001b[0m     \u001b[38;5;28;01mreturn\u001b[39;00m \u001b[38;5;124m'\u001b[39m\u001b[38;5;124mHello \u001b[39m\u001b[38;5;124m'\u001b[39m \u001b[38;5;241m+\u001b[39m name \u001b[38;5;241m+\u001b[39m \u001b[38;5;124m'\u001b[39m\u001b[38;5;124m, you are \u001b[39m\u001b[38;5;124m'\u001b[39m \u001b[38;5;241m+\u001b[39m age \u001b[38;5;241m+\u001b[39m \u001b[38;5;124m'\u001b[39m\u001b[38;5;124m years old.\u001b[39m\u001b[38;5;124m'\u001b[39m\n",
      "\u001b[1;31mTypeError\u001b[0m: can only concatenate str (not \"int\") to str"
     ]
    }
   ],
   "source": [
    "# This function should return a formatted string\n",
    "def greet_user(name, age):\n",
    "    return 'Hello ' + name + ', you are ' + age + ' years old.'  # Bug: age is an integer\n",
    "\n",
    "print(greet_user('Alice', 25))  # Expected output: 'Hello Alice, you are 25 years old.', but causes an error"
   ]
  },
  {
   "cell_type": "code",
   "execution_count": 7,
   "id": "d73b2113",
   "metadata": {},
   "outputs": [
    {
     "name": "stdout",
     "output_type": "stream",
     "text": [
      "Hello Alice, you are 25 years old.\n"
     ]
    }
   ],
   "source": [
    "def greet_user(name, age):\n",
    "    return 'Hello ' + name + ', you are ' + str(age) + ' years old.'  # casting type \n",
    "\n",
    "print(greet_user('Alice', 25))  # Expected output: 'Hello Alice, you are 25 years old.'\n"
   ]
  },
  {
   "cell_type": "code",
   "execution_count": 9,
   "id": "8ad12c4e",
   "metadata": {},
   "outputs": [],
   "source": [
    "# Casting (Type Conversion) Functions\n",
    "value = \"123\"\n",
    "int_value = int(value)  # Converts string to integer\n",
    "print(int_value)  # Output: 123\n",
    "\n",
    "# Type Conversion Examples\n",
    "age_str = \"25\"\n",
    "age_int = int(age_str)\n",
    "print(age_int)  # Output: 25\n"
   ]
  },
  {
   "cell_type": "markdown",
   "id": "e45924b6",
   "metadata": {},
   "source": [
    "### Exercise 4: Division by Zero"
   ]
  },
  {
   "cell_type": "code",
   "execution_count": null,
   "id": "98641134",
   "metadata": {},
   "outputs": [],
   "source": [
    "# This function should return the result of dividing a number by another\n",
    "def safe_divide(a, b):\n",
    "    return a / b  # Bug: No check for division by zero\n",
    "\n",
    "print(safe_divide(10, 0))  # Expected: Handle the zero division case"
   ]
  },
  {
   "cell_type": "code",
   "execution_count": 8,
   "id": "52b139dc",
   "metadata": {},
   "outputs": [
    {
     "name": "stdout",
     "output_type": "stream",
     "text": [
      "Error: Division by zero is not allowed.\n",
      "5.0\n"
     ]
    }
   ],
   "source": [
    "def safe_divide(a, b):\n",
    "    if b == 0:\n",
    "        return \"Error: Division by zero is not allowed.\"\n",
    "    return a / b\n",
    "\n",
    "print(safe_divide(10, 0))  # Expected output: 'Error: Division by zero is not allowed.'\n",
    "print(safe_divide(10, 2))  # Expected output: 5.0\n"
   ]
  }
 ],
 "metadata": {
  "kernelspec": {
   "display_name": "base",
   "language": "python",
   "name": "python3"
  },
  "language_info": {
   "codemirror_mode": {
    "name": "ipython",
    "version": 3
   },
   "file_extension": ".py",
   "mimetype": "text/x-python",
   "name": "python",
   "nbconvert_exporter": "python",
   "pygments_lexer": "ipython3",
   "version": "3.12.7"
  }
 },
 "nbformat": 4,
 "nbformat_minor": 5
}
